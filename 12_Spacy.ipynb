{
 "cells": [
  {
   "cell_type": "markdown",
   "metadata": {},
   "source": [
    "# NLP - Spacy (Pre-Trained Models)\n",
    "\n",
    "\n",
    "> pip install setuptools wheel\n",
    "\n",
    "\n",
    "> pip install spacy\n",
    "\n",
    "> python spacy download en_core_web_sm"
   ]
  },
  {
   "cell_type": "code",
   "execution_count": 21,
   "metadata": {},
   "outputs": [],
   "source": [
    "import spacy\n",
    "from spacy import displacy\n",
    "import pandas as  pd"
   ]
  },
  {
   "cell_type": "markdown",
   "metadata": {},
   "source": [
    "# Load the pre-trained model"
   ]
  },
  {
   "cell_type": "code",
   "execution_count": 2,
   "metadata": {},
   "outputs": [],
   "source": [
    "nlp = spacy.load(\"en_core_web_sm\")"
   ]
  },
  {
   "cell_type": "markdown",
   "metadata": {},
   "source": [
    "# Create a Text Spacy "
   ]
  },
  {
   "cell_type": "code",
   "execution_count": 3,
   "metadata": {},
   "outputs": [
    {
     "name": "stdout",
     "output_type": "stream",
     "text": [
      "You are a great person <class 'spacy.tokens.doc.Doc'>\n"
     ]
    }
   ],
   "source": [
    "doc = nlp(\"You are a great person\")\n",
    "\n",
    "print(doc, type(doc))"
   ]
  },
  {
   "cell_type": "markdown",
   "metadata": {},
   "source": [
    "# Tokenization"
   ]
  },
  {
   "cell_type": "code",
   "execution_count": 8,
   "metadata": {},
   "outputs": [
    {
     "name": "stdout",
     "output_type": "stream",
     "text": [
      "You\n",
      "are\n",
      "a\n",
      "great\n",
      "person\n"
     ]
    }
   ],
   "source": [
    "print(doc[0])\n",
    "print(doc[1])\n",
    "print(doc[2])\n",
    "print(doc[3])\n",
    "print(doc[4])"
   ]
  },
  {
   "cell_type": "code",
   "execution_count": 11,
   "metadata": {},
   "outputs": [
    {
     "name": "stdout",
     "output_type": "stream",
     "text": [
      "You\n",
      "are\n",
      "a\n",
      "great\n",
      "person\n"
     ]
    }
   ],
   "source": [
    "for token in doc:\n",
    "    print(token.text)"
   ]
  },
  {
   "cell_type": "code",
   "execution_count": 12,
   "metadata": {},
   "outputs": [
    {
     "data": {
      "text/plain": [
       "['You', 'are', 'a', 'great', 'person']"
      ]
     },
     "execution_count": 12,
     "metadata": {},
     "output_type": "execute_result"
    }
   ],
   "source": [
    "tokens = [token.text for token in doc]\n",
    "tokens"
   ]
  },
  {
   "cell_type": "markdown",
   "metadata": {},
   "source": [
    "# Lemmatization\n",
    "\n",
    "bring the words to their root words from dictionary\n",
    "\n",
    "reduces the count of the unique words"
   ]
  },
  {
   "cell_type": "code",
   "execution_count": 13,
   "metadata": {},
   "outputs": [
    {
     "name": "stdout",
     "output_type": "stream",
     "text": [
      "['she', 'have', 'a', 'nice', 'hair']\n",
      "['they', 'have', 'a', 'nice', 'hair']\n"
     ]
    }
   ],
   "source": [
    "doc = nlp(\"She has a nice hair\")\n",
    "doc2 = nlp(\"They have a nice hair\")\n",
    "\n",
    "lemma = [token.lemma_ for token in doc]\n",
    "print(lemma)\n",
    "\n",
    "\n",
    "\n",
    "lemma = [token.lemma_ for token in doc2]\n",
    "print(lemma)"
   ]
  },
  {
   "cell_type": "markdown",
   "metadata": {},
   "source": [
    "# Part of Speech Tagging (POS)"
   ]
  },
  {
   "cell_type": "code",
   "execution_count": 14,
   "metadata": {},
   "outputs": [
    {
     "name": "stdout",
     "output_type": "stream",
     "text": [
      "['PRON', 'VERB', 'DET', 'ADJ', 'NOUN']\n"
     ]
    }
   ],
   "source": [
    "lemma = [token.pos_ for token in doc]\n",
    "print(lemma)"
   ]
  },
  {
   "cell_type": "markdown",
   "metadata": {},
   "source": [
    "# Named Entity Recognition (NER)\n",
    "\n",
    "classification of words"
   ]
  },
  {
   "cell_type": "code",
   "execution_count": 15,
   "metadata": {},
   "outputs": [
    {
     "name": "stdout",
     "output_type": "stream",
     "text": [
      "$9.4 million MONEY\n",
      "the prior year DATE\n",
      "$2.7 million MONEY\n"
     ]
    }
   ],
   "source": [
    "doc = nlp(\"Net income was $9.4 million compared to the prior year of $2.7 million.\")\n",
    "\n",
    "\n",
    "for token in doc.ents:\n",
    "    print(token.text, token.label_)"
   ]
  },
  {
   "cell_type": "code",
   "execution_count": 17,
   "metadata": {},
   "outputs": [
    {
     "data": {
      "text/html": [
       "<span class=\"tex2jax_ignore\"><div class=\"entities\" style=\"line-height: 2.5; direction: ltr\">Net income was \n",
       "<mark class=\"entity\" style=\"background: #e4e7d2; padding: 0.45em 0.6em; margin: 0 0.25em; line-height: 1; border-radius: 0.35em;\">\n",
       "    $9.4 million\n",
       "    <span style=\"font-size: 0.8em; font-weight: bold; line-height: 1; border-radius: 0.35em; vertical-align: middle; margin-left: 0.5rem\">MONEY</span>\n",
       "</mark>\n",
       " compared to \n",
       "<mark class=\"entity\" style=\"background: #bfe1d9; padding: 0.45em 0.6em; margin: 0 0.25em; line-height: 1; border-radius: 0.35em;\">\n",
       "    the prior year\n",
       "    <span style=\"font-size: 0.8em; font-weight: bold; line-height: 1; border-radius: 0.35em; vertical-align: middle; margin-left: 0.5rem\">DATE</span>\n",
       "</mark>\n",
       " of \n",
       "<mark class=\"entity\" style=\"background: #e4e7d2; padding: 0.45em 0.6em; margin: 0 0.25em; line-height: 1; border-radius: 0.35em;\">\n",
       "    $2.7 million\n",
       "    <span style=\"font-size: 0.8em; font-weight: bold; line-height: 1; border-radius: 0.35em; vertical-align: middle; margin-left: 0.5rem\">MONEY</span>\n",
       "</mark>\n",
       ".</div></span>"
      ],
      "text/plain": [
       "<IPython.core.display.HTML object>"
      ]
     },
     "metadata": {},
     "output_type": "display_data"
    }
   ],
   "source": [
    "displacy.render(doc, style= \"ent\", jupyter= True)"
   ]
  },
  {
   "cell_type": "markdown",
   "metadata": {},
   "source": [
    "# Pipeline\n",
    "\n",
    "<img src=\"./pipeline.svg\">"
   ]
  },
  {
   "cell_type": "code",
   "execution_count": 19,
   "metadata": {},
   "outputs": [
    {
     "name": "stdout",
     "output_type": "stream",
     "text": [
      "[('$9.4 million', 'MONEY'), ('the prior year', 'DATE'), ('$2.7 million', 'MONEY')]\n"
     ]
    },
    {
     "data": {
      "text/html": [
       "<span class=\"tex2jax_ignore\"><div class=\"entities\" style=\"line-height: 2.5; direction: ltr\">Net income was \n",
       "<mark class=\"entity\" style=\"background: #e4e7d2; padding: 0.45em 0.6em; margin: 0 0.25em; line-height: 1; border-radius: 0.35em;\">\n",
       "    $9.4 million\n",
       "    <span style=\"font-size: 0.8em; font-weight: bold; line-height: 1; border-radius: 0.35em; vertical-align: middle; margin-left: 0.5rem\">MONEY</span>\n",
       "</mark>\n",
       " compared to \n",
       "<mark class=\"entity\" style=\"background: #bfe1d9; padding: 0.45em 0.6em; margin: 0 0.25em; line-height: 1; border-radius: 0.35em;\">\n",
       "    the prior year\n",
       "    <span style=\"font-size: 0.8em; font-weight: bold; line-height: 1; border-radius: 0.35em; vertical-align: middle; margin-left: 0.5rem\">DATE</span>\n",
       "</mark>\n",
       " of \n",
       "<mark class=\"entity\" style=\"background: #e4e7d2; padding: 0.45em 0.6em; margin: 0 0.25em; line-height: 1; border-radius: 0.35em;\">\n",
       "    $2.7 million\n",
       "    <span style=\"font-size: 0.8em; font-weight: bold; line-height: 1; border-radius: 0.35em; vertical-align: middle; margin-left: 0.5rem\">MONEY</span>\n",
       "</mark>\n",
       ".</div></span>"
      ],
      "text/plain": [
       "<IPython.core.display.HTML object>"
      ]
     },
     "metadata": {},
     "output_type": "display_data"
    },
    {
     "name": "stdout",
     "output_type": "stream",
     "text": [
      "[('twelve billion dollars', 'MONEY'), ('1b', 'MONEY')]\n"
     ]
    },
    {
     "data": {
      "text/html": [
       "<span class=\"tex2jax_ignore\"><div class=\"entities\" style=\"line-height: 2.5; direction: ltr\">Revenue exceeded \n",
       "<mark class=\"entity\" style=\"background: #e4e7d2; padding: 0.45em 0.6em; margin: 0 0.25em; line-height: 1; border-radius: 0.35em;\">\n",
       "    twelve billion dollars\n",
       "    <span style=\"font-size: 0.8em; font-weight: bold; line-height: 1; border-radius: 0.35em; vertical-align: middle; margin-left: 0.5rem\">MONEY</span>\n",
       "</mark>\n",
       ", with a loss of $\n",
       "<mark class=\"entity\" style=\"background: #e4e7d2; padding: 0.45em 0.6em; margin: 0 0.25em; line-height: 1; border-radius: 0.35em;\">\n",
       "    1b\n",
       "    <span style=\"font-size: 0.8em; font-weight: bold; line-height: 1; border-radius: 0.35em; vertical-align: middle; margin-left: 0.5rem\">MONEY</span>\n",
       "</mark>\n",
       ".</div></span>"
      ],
      "text/plain": [
       "<IPython.core.display.HTML object>"
      ]
     },
     "metadata": {},
     "output_type": "display_data"
    }
   ],
   "source": [
    "# Example with several sentences\n",
    "\n",
    "texts = [\n",
    "    \"Net income was $9.4 million compared to the prior year of $2.7 million.\",\n",
    "    \"Revenue exceeded twelve billion dollars, with a loss of $1b.\",\n",
    "]\n",
    "\n",
    "\n",
    "\n",
    "for doc in nlp.pipe(texts, disable=[\"tok2vec\", \"tagger\", \"parser\", \"attribut_ruler\", \"lemmatizer\"]):\n",
    "    print([(ent.text, ent.label_) for ent in doc.ents])\n",
    "    displacy.render(doc, style= \"ent\", jupyter= True)"
   ]
  },
  {
   "cell_type": "markdown",
   "metadata": {},
   "source": [
    "# Example Project (MedicalHealth Care)"
   ]
  },
  {
   "cell_type": "code",
   "execution_count": 20,
   "metadata": {},
   "outputs": [],
   "source": [
    "clinical_notes = {\n",
    "    \"Patient 1\": \"\"\"\n",
    "        The patient is a 45-year-old male with a history of hypertension and diabetes. \n",
    "        He is currently prescribed metformin and losartan. Last visit: 2023-04-15. \n",
    "        The patient reports occasional headaches.\n",
    "    \"\"\",\n",
    "    \"Patient 2\": \"\"\"\n",
    "        A 60-year-old female presents with chest pain and shortness of breath. \n",
    "        She has a history of coronary artery disease and is on aspirin and atorvastatin. \n",
    "        Last visit: 2023-03-22. Family history of stroke.\n",
    "    \"\"\",\n",
    "    \"Patient 3\": \"\"\"\n",
    "        The patient is a 30-year-old female with no significant medical history. \n",
    "        She complains of frequent migraines and is taking ibuprofen as needed. \n",
    "        Last visit: 2023-05-10.\n",
    "    \"\"\",\n",
    "    \"Patient 4\": \"\"\"\n",
    "        A 70-year-old male with a history of congestive heart failure. \n",
    "        Currently on furosemide and lisinopril. He also has chronic kidney disease. \n",
    "        Last visit: 2023-04-30. Recent symptoms include fatigue and dizziness.\n",
    "    \"\"\"\n",
    "}"
   ]
  },
  {
   "cell_type": "markdown",
   "metadata": {},
   "source": [
    "# Extract medical Info using Spacy NER\n"
   ]
  },
  {
   "cell_type": "code",
   "execution_count": 22,
   "metadata": {},
   "outputs": [],
   "source": [
    "\n",
    "def extract_medical_info(notes):\n",
    "    patient_data = []\n",
    "\n",
    "    for patient, note in notes.items():\n",
    "        doc = nlp(note)\n",
    "        entities = [(ent.text, ent.label_) for ent in doc.ents]\n",
    "        patient_data.append({\n",
    "            'Patient': patient,\n",
    "            'Clinical Notes': note,\n",
    "            'Entities': entities\n",
    "        })\n",
    "\n",
    "    return pd.DataFrame(patient_data)"
   ]
  },
  {
   "cell_type": "code",
   "execution_count": 23,
   "metadata": {},
   "outputs": [
    {
     "name": "stdout",
     "output_type": "stream",
     "text": [
      "Medical Information Extraction\n",
      "     Patient                                     Clinical Notes  \\\n",
      "0  Patient 1  \\n        The patient is a 45-year-old male wi...   \n",
      "1  Patient 2  \\n        A 60-year-old female presents with c...   \n",
      "2  Patient 3  \\n        The patient is a 30-year-old female ...   \n",
      "3  Patient 4  \\n        A 70-year-old male with a history of...   \n",
      "\n",
      "                                        Entities  \n",
      "0  [(45-year-old, DATE), (2023-04-15, CARDINAL)]  \n",
      "1  [(60-year-old, DATE), (2023-03-22, CARDINAL)]  \n",
      "2  [(30-year-old, DATE), (2023-05-10, CARDINAL)]  \n",
      "3  [(70-year-old, DATE), (2023-04-30, CARDINAL)]  \n"
     ]
    }
   ],
   "source": [
    "# Extract medical information\n",
    "medical_data_df = extract_medical_info(clinical_notes)\n",
    "\n",
    "# Display the dataframe with extracted entities\n",
    "print(\"Medical Information Extraction\")\n",
    "print(medical_data_df)"
   ]
  },
  {
   "cell_type": "code",
   "execution_count": 24,
   "metadata": {},
   "outputs": [
    {
     "data": {
      "text/html": [
       "<span class=\"tex2jax_ignore\"><div class=\"entities\" style=\"line-height: 2.5; direction: ltr\"><br>        The patient is a \n",
       "<mark class=\"entity\" style=\"background: #bfe1d9; padding: 0.45em 0.6em; margin: 0 0.25em; line-height: 1; border-radius: 0.35em;\">\n",
       "    45-year-old\n",
       "    <span style=\"font-size: 0.8em; font-weight: bold; line-height: 1; border-radius: 0.35em; vertical-align: middle; margin-left: 0.5rem\">DATE</span>\n",
       "</mark>\n",
       " male with a history of hypertension and diabetes. <br>        He is currently prescribed metformin and losartan. Last visit: \n",
       "<mark class=\"entity\" style=\"background: #e4e7d2; padding: 0.45em 0.6em; margin: 0 0.25em; line-height: 1; border-radius: 0.35em;\">\n",
       "    2023-04-15\n",
       "    <span style=\"font-size: 0.8em; font-weight: bold; line-height: 1; border-radius: 0.35em; vertical-align: middle; margin-left: 0.5rem\">CARDINAL</span>\n",
       "</mark>\n",
       ". <br>        The patient reports occasional headaches.<br>    </div></span>"
      ],
      "text/plain": [
       "<IPython.core.display.HTML object>"
      ]
     },
     "metadata": {},
     "output_type": "display_data"
    }
   ],
   "source": [
    "doc1 = nlp(clinical_notes[\"Patient 1\"])\n",
    "displacy.render(doc1, style='ent', jupyter=True)"
   ]
  },
  {
   "cell_type": "markdown",
   "metadata": {},
   "source": [
    "# Example with Matchers"
   ]
  },
  {
   "cell_type": "code",
   "execution_count": 25,
   "metadata": {},
   "outputs": [],
   "source": [
    "from spacy.matcher import Matcher"
   ]
  },
  {
   "cell_type": "code",
   "execution_count": 26,
   "metadata": {},
   "outputs": [],
   "source": [
    "text = \"\"\"\n",
    "Patient John Doe, a 45-year-old male, was diagnosed with Type 2 diabetes last year.\n",
    "He is currently prescribed Metformin 500mg once daily. Recently, he complained of headaches\n",
    "and fatigue. The doctor recommended increasing the dosage of Metformin to 1000mg and \n",
    "starting on a new medication called Lisinopril for blood pressure control.\n",
    "\"\"\"\n"
   ]
  },
  {
   "cell_type": "code",
   "execution_count": 27,
   "metadata": {},
   "outputs": [],
   "source": [
    "doc = nlp(text)\n"
   ]
  },
  {
   "cell_type": "code",
   "execution_count": 28,
   "metadata": {},
   "outputs": [],
   "source": [
    "\n",
    "# Define patterns to extract medication names and dosages\n",
    "pattern_medication = [{\"LOWER\": {\"IN\": [\"metformin\", \"lisinopril\"]}}]\n",
    "pattern_dosage = [{\"LIKE_NUM\": True}, {\"LOWER\": {\"IN\": [\"mg\", \"milligrams\"]}}]\n"
   ]
  },
  {
   "cell_type": "code",
   "execution_count": 29,
   "metadata": {},
   "outputs": [],
   "source": [
    "matcher = Matcher(nlp.vocab)\n",
    "\n",
    "matcher.add(\"MEDICATION\", [pattern_medication])\n",
    "matcher.add(\"DOSAGE\", [pattern_dosage])"
   ]
  },
  {
   "cell_type": "code",
   "execution_count": 30,
   "metadata": {},
   "outputs": [],
   "source": [
    "# Apply the matcher to the document\n",
    "matches = matcher(doc)"
   ]
  },
  {
   "cell_type": "code",
   "execution_count": 31,
   "metadata": {},
   "outputs": [
    {
     "name": "stdout",
     "output_type": "stream",
     "text": [
      "Named Entities (NER):\n",
      "John Doe (PERSON)\n",
      "45-year-old (DATE)\n",
      "2 (CARDINAL)\n",
      "last year (DATE)\n",
      "Metformin 500 (PERSON)\n",
      "daily (DATE)\n",
      "Metformin (PERSON)\n",
      "Lisinopril (PERSON)\n",
      "\n",
      "Custom Pattern Matches (Medications and Dosages):\n",
      "MEDICATION: Metformin\n",
      "DOSAGE: 500mg\n",
      "MEDICATION: Metformin\n",
      "DOSAGE: 1000mg\n",
      "MEDICATION: Lisinopril\n"
     ]
    }
   ],
   "source": [
    "# Display entities recognized by spaCy's built-in NER\n",
    "print(\"Named Entities (NER):\")\n",
    "for ent in doc.ents:\n",
    "    print(f\"{ent.text} ({ent.label_})\")\n",
    "\n",
    "# Display matches from the custom patterns (medications, dosages)\n",
    "print(\"\\nCustom Pattern Matches (Medications and Dosages):\")\n",
    "for match_id, start, end in matches:\n",
    "    matched_span = doc[start:end]\n",
    "    match_label = nlp.vocab.strings[match_id]\n",
    "    print(f\"{match_label}: {matched_span.text}\")"
   ]
  }
 ],
 "metadata": {
  "kernelspec": {
   "display_name": "Python 3",
   "language": "python",
   "name": "python3"
  },
  "language_info": {
   "codemirror_mode": {
    "name": "ipython",
    "version": 3
   },
   "file_extension": ".py",
   "mimetype": "text/x-python",
   "name": "python",
   "nbconvert_exporter": "python",
   "pygments_lexer": "ipython3",
   "version": "3.12.5"
  }
 },
 "nbformat": 4,
 "nbformat_minor": 2
}
