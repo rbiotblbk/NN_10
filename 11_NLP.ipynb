{
 "cells": [
  {
   "cell_type": "markdown",
   "metadata": {},
   "source": [
    "# NLP (Natural Language Processing)\n",
    "\n",
    "> pip install nltk\n",
    "\n",
    "> pip install textblob\n",
    "\n",
    "> python -m nltk.downloader all"
   ]
  },
  {
   "cell_type": "code",
   "execution_count": 19,
   "metadata": {},
   "outputs": [],
   "source": [
    "import nltk\n",
    "from textblob import TextBlob\n",
    "from textblob.sentiments import NaiveBayesAnalyzer \n",
    "\n",
    "from pprint import pprint"
   ]
  },
  {
   "cell_type": "code",
   "execution_count": 2,
   "metadata": {},
   "outputs": [
    {
     "name": "stdout",
     "output_type": "stream",
     "text": [
      "showing info https://raw.githubusercontent.com/nltk/nltk_data/gh-pages/index.xml\n"
     ]
    },
    {
     "data": {
      "text/plain": [
       "True"
      ]
     },
     "execution_count": 2,
     "metadata": {},
     "output_type": "execute_result"
    }
   ],
   "source": [
    "# Download the TOOL Kits and Modules and Dictionaties\n",
    "nltk.download()"
   ]
  },
  {
   "cell_type": "markdown",
   "metadata": {},
   "source": [
    "# Load the Data"
   ]
  },
  {
   "cell_type": "code",
   "execution_count": 4,
   "metadata": {},
   "outputs": [
    {
     "name": "stdout",
     "output_type": "stream",
     "text": [
      "TextBlob is a Python library for processing textual data. It provides a simple API for diving into common natural language processing (NLP) tasks such as part-of-speech tagging, noun phrase extraction, sentiment analysis, classification, and more. <class 'str'>\n"
     ]
    }
   ],
   "source": [
    "txt = \"TextBlob is a Python library for processing textual data. It provides a simple API for diving into common natural language processing (NLP) tasks such as part-of-speech tagging, noun phrase extraction, sentiment analysis, classification, and more.\"\n",
    "print(txt, type(txt))"
   ]
  },
  {
   "cell_type": "markdown",
   "metadata": {},
   "source": [
    "# Convert a String to an intelligent TextBlob"
   ]
  },
  {
   "cell_type": "code",
   "execution_count": 5,
   "metadata": {},
   "outputs": [
    {
     "name": "stdout",
     "output_type": "stream",
     "text": [
      "TextBlob is a Python library for processing textual data. It provides a simple API for diving into common natural language processing (NLP) tasks such as part-of-speech tagging, noun phrase extraction, sentiment analysis, classification, and more.\n"
     ]
    }
   ],
   "source": [
    "blob = TextBlob(txt)\n",
    "\n",
    "print(blob)"
   ]
  },
  {
   "cell_type": "markdown",
   "metadata": {},
   "source": [
    "# Tokenizing\n",
    "token = a word"
   ]
  },
  {
   "cell_type": "code",
   "execution_count": 6,
   "metadata": {},
   "outputs": [
    {
     "name": "stdout",
     "output_type": "stream",
     "text": [
      "['TextBlob', 'is', 'a', 'Python', 'library', 'for', 'processing', 'textual', 'data', 'It', 'provides', 'a', 'simple', 'API', 'for', 'diving', 'into', 'common', 'natural', 'language', 'processing', 'NLP', 'tasks', 'such', 'as', 'part-of-speech', 'tagging', 'noun', 'phrase', 'extraction', 'sentiment', 'analysis', 'classification', 'and', 'more']\n"
     ]
    }
   ],
   "source": [
    "print(blob.words)"
   ]
  },
  {
   "cell_type": "markdown",
   "metadata": {},
   "source": [
    "# Word Count -> dict[word:count]"
   ]
  },
  {
   "cell_type": "code",
   "execution_count": 10,
   "metadata": {},
   "outputs": [
    {
     "name": "stdout",
     "output_type": "stream",
     "text": [
      "defaultdict(<class 'int'>,\n",
      "            {'a': 2,\n",
      "             'analysis': 1,\n",
      "             'and': 1,\n",
      "             'api': 1,\n",
      "             'as': 1,\n",
      "             'classification': 1,\n",
      "             'common': 1,\n",
      "             'data': 1,\n",
      "             'diving': 1,\n",
      "             'extraction': 1,\n",
      "             'for': 2,\n",
      "             'into': 1,\n",
      "             'is': 1,\n",
      "             'it': 1,\n",
      "             'language': 1,\n",
      "             'library': 1,\n",
      "             'more': 1,\n",
      "             'natural': 1,\n",
      "             'nlp': 1,\n",
      "             'noun': 1,\n",
      "             'part-of-speech': 1,\n",
      "             'phrase': 1,\n",
      "             'processing': 2,\n",
      "             'provides': 1,\n",
      "             'python': 1,\n",
      "             'sentiment': 1,\n",
      "             'simple': 1,\n",
      "             'such': 1,\n",
      "             'tagging': 1,\n",
      "             'tasks': 1,\n",
      "             'textblob': 1,\n",
      "             'textual': 1})\n"
     ]
    }
   ],
   "source": [
    "pprint(blob.word_counts)"
   ]
  },
  {
   "cell_type": "markdown",
   "metadata": {},
   "source": [
    "# Sentences"
   ]
  },
  {
   "cell_type": "code",
   "execution_count": 11,
   "metadata": {},
   "outputs": [
    {
     "name": "stdout",
     "output_type": "stream",
     "text": [
      "[Sentence(\"TextBlob is a Python library for processing textual data.\"),\n",
      " Sentence(\"It provides a simple API for diving into common natural language processing (NLP) tasks such as part-of-speech tagging, noun phrase extraction, sentiment analysis, classification, and more.\")]\n"
     ]
    }
   ],
   "source": [
    "pprint(blob.sentences)"
   ]
  },
  {
   "cell_type": "markdown",
   "metadata": {},
   "source": [
    "# Phrases"
   ]
  },
  {
   "cell_type": "code",
   "execution_count": 12,
   "metadata": {},
   "outputs": [
    {
     "name": "stdout",
     "output_type": "stream",
     "text": [
      "['textblob', 'python', 'processing textual data', 'api', 'common natural language processing', 'nlp', 'noun phrase extraction', 'sentiment analysis']\n"
     ]
    }
   ],
   "source": [
    "print(blob.noun_phrases)"
   ]
  },
  {
   "cell_type": "markdown",
   "metadata": {},
   "source": [
    "# Sentiment Analysis\n",
    "\n",
    "- polarity : (-1) negative ---> (+1) positive\n",
    "- subjectivity: (0) objective --> (1) subjective"
   ]
  },
  {
   "cell_type": "code",
   "execution_count": 16,
   "metadata": {},
   "outputs": [
    {
     "name": "stdout",
     "output_type": "stream",
     "text": [
      "Sentiment(polarity=-1.0, subjectivity=1.0)\n",
      "Sentiment(polarity=1.0, subjectivity=0.3)\n",
      "Sentiment(polarity=0.5, subjectivity=0.5)\n"
     ]
    }
   ],
   "source": [
    "review_1 = \"The movie is awful\"\n",
    "review_2 = \"The movie was the best\"\n",
    "review_3 = \"The movie was okay\"\n",
    "\n",
    "blob1 = TextBlob(review_1)\n",
    "blob2 = TextBlob(review_2)\n",
    "blob3 = TextBlob(review_3)\n",
    "\n",
    "\n",
    "print(blob1.sentiment)\n",
    "print(blob2.sentiment)\n",
    "print(blob3.sentiment)"
   ]
  },
  {
   "cell_type": "code",
   "execution_count": 18,
   "metadata": {},
   "outputs": [
    {
     "name": "stdout",
     "output_type": "stream",
     "text": [
      "The movie was not bad. -> 0.3499999999999999\n",
      "The visual effects were good. -> 0.35\n",
      "the acting was bad in some places. -> -0.3499999999999999\n",
      "The plot was kind of interesting. -> 0.55\n"
     ]
    }
   ],
   "source": [
    "review_4 = \"The movie was not bad. The visual effects were good. the acting was bad in some places. The plot was kind of interesting.\"\n",
    "\n",
    "blob4 = TextBlob(review_4)\n",
    "\n",
    "\n",
    "for sentence in blob4.sentences:\n",
    "    print(sentence , \"->\", sentence.sentiment.polarity)"
   ]
  },
  {
   "cell_type": "code",
   "execution_count": 20,
   "metadata": {},
   "outputs": [
    {
     "name": "stdout",
     "output_type": "stream",
     "text": [
      "The movie was not bad. -> Sentiment(classification='neg', p_pos=0.31118417624529743, p_neg=0.6888158237547024)\n",
      "The visual effects were good. -> Sentiment(classification='pos', p_pos=0.6418440968940453, p_neg=0.3581559031059543)\n",
      "the acting was bad in some places. -> Sentiment(classification='neg', p_pos=0.33477134293562166, p_neg=0.6652286570643782)\n",
      "The plot was kind of interesting. -> Sentiment(classification='neg', p_pos=0.4065718254584161, p_neg=0.5934281745415839)\n"
     ]
    }
   ],
   "source": [
    "review_4 = \"The movie was not bad. The visual effects were good. the acting was bad in some places. The plot was kind of interesting.\"\n",
    "\n",
    "blob4 = TextBlob(review_4,  analyzer=NaiveBayesAnalyzer())\n",
    "\n",
    "\n",
    "for sentence in blob4.sentences:\n",
    "    print(sentence , \"->\", sentence.sentiment)"
   ]
  }
 ],
 "metadata": {
  "kernelspec": {
   "display_name": "Python 3",
   "language": "python",
   "name": "python3"
  },
  "language_info": {
   "codemirror_mode": {
    "name": "ipython",
    "version": 3
   },
   "file_extension": ".py",
   "mimetype": "text/x-python",
   "name": "python",
   "nbconvert_exporter": "python",
   "pygments_lexer": "ipython3",
   "version": "3.12.5"
  }
 },
 "nbformat": 4,
 "nbformat_minor": 2
}
