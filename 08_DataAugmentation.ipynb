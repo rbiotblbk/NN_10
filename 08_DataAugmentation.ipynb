{
 "cells": [
  {
   "cell_type": "markdown",
   "metadata": {},
   "source": [
    "# Data Augmentation"
   ]
  },
  {
   "cell_type": "code",
   "execution_count": 2,
   "metadata": {},
   "outputs": [],
   "source": [
    "from pathlib import Path\n",
    "import os \n",
    "from tensorflow.keras.preprocessing.image import ImageDataGenerator, img_to_array, load_img"
   ]
  },
  {
   "cell_type": "code",
   "execution_count": 7,
   "metadata": {},
   "outputs": [],
   "source": [
    "NUM_IMAGES = 20"
   ]
  },
  {
   "cell_type": "code",
   "execution_count": 3,
   "metadata": {},
   "outputs": [],
   "source": [
    "# Set the Paths\n",
    "input_dir = Path(\"./datasets/cats/\")\n",
    "output_dir = Path(\"./datasets/cats_augmented/\")\n",
    "\n",
    "# Create Ouput Directory if not exists\n",
    "output_dir.mkdir(parents=True, exist_ok=True)"
   ]
  },
  {
   "cell_type": "code",
   "execution_count": 4,
   "metadata": {},
   "outputs": [],
   "source": [
    "datagen = ImageDataGenerator(\n",
    "    rotation_range = 40,  \n",
    "    width_shift_range = 0.2 , # 20% shift horizontally\n",
    "    height_shift_range = 0.2, # 20% shift vertically\n",
    "    shear_range = 0.2, \n",
    "    zoom_range = 0.2 ,\n",
    "    horizontal_flip = True,\n",
    "    fill_mode = \"nearest\"\n",
    ")"
   ]
  },
  {
   "cell_type": "code",
   "execution_count": 6,
   "metadata": {},
   "outputs": [
    {
     "data": {
      "text/plain": [
       "[WindowsPath('datasets/cats/cat1.jpg'), WindowsPath('datasets/cats/cat2.jpg')]"
      ]
     },
     "execution_count": 6,
     "metadata": {},
     "output_type": "execute_result"
    }
   ],
   "source": [
    "# FInd all images\n",
    "image_paths = list(input_dir.rglob(\"*.jpg\"))\n",
    "image_paths"
   ]
  },
  {
   "cell_type": "code",
   "execution_count": 8,
   "metadata": {},
   "outputs": [
    {
     "name": "stdout",
     "output_type": "stream",
     "text": [
      "Augemnation finished\n"
     ]
    }
   ],
   "source": [
    "for img_path in image_paths:\n",
    "    # Load the image\n",
    "    img = load_img(img_path)\n",
    "\n",
    "    # convert the image into numpy array\n",
    "    x = img_to_array(img)\n",
    "\n",
    "    # reshaping (batch,zie, h, w, channel)\n",
    "    x = x.reshape((1,) + x.shape)\n",
    "\n",
    "\n",
    "    # Generate the images\n",
    "    counter = 0 \n",
    "    for batch in datagen.flow(x, batch_size=1, save_to_dir=output_dir, save_prefix= \"aug_\", save_format= \"jpeg\"):\n",
    "        counter += 1\n",
    "        if counter >= NUM_IMAGES:\n",
    "            break\n",
    "\n",
    "\n",
    "print(\"Augemnation finished\")"
   ]
  }
 ],
 "metadata": {
  "kernelspec": {
   "display_name": "Python 3",
   "language": "python",
   "name": "python3"
  },
  "language_info": {
   "codemirror_mode": {
    "name": "ipython",
    "version": 3
   },
   "file_extension": ".py",
   "mimetype": "text/x-python",
   "name": "python",
   "nbconvert_exporter": "python",
   "pygments_lexer": "ipython3",
   "version": "3.12.5"
  }
 },
 "nbformat": 4,
 "nbformat_minor": 2
}
