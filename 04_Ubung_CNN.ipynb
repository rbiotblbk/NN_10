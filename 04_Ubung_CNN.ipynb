{
 "cells": [
  {
   "cell_type": "markdown",
   "metadata": {},
   "source": [
    "# Übung (Fashion MNIST with CNN)\n",
    "\n",
    "Build a model to predict Fashion MNIST \n",
    "- Preparation\n",
    "- Building\n",
    "- Training\n",
    "- Prediction\n",
    "- Confusion Matrix\n",
    "- Saving the model\n",
    "\n",
    "Delivery as \n",
    "1. NoteBook\n",
    "2. Python Application (Functional or OOP)\n",
    "\n",
    "\n",
    "**FOCUS on working application first of all, then optimize it and make it pretty**\n",
    "\n"
   ]
  },
  {
   "cell_type": "markdown",
   "metadata": {},
   "source": [
    "# Dataset locally (Proxy)\n",
    "\n",
    "For the dataset (locally)\n",
    "1. Download the dataset manually from : https://github.com/zalandoresearch/fashion-mnist/tree/master/data/fashion\n",
    "2. Create Folder Called **datasets\\fashion-mnist** under C:\\Users\\Administrator\\.keras\\\n",
    "   So you will have C:\\Users\\Administrator\\\\.keras\\datasets\\fashion-mnist\n",
    "\n",
    "3. Copy the 4x Downloaded files into the created folder"
   ]
  },
  {
   "cell_type": "code",
   "execution_count": null,
   "metadata": {},
   "outputs": [],
   "source": [
    "\n",
    "from tensorflow.keras.datasets import fashion_mnist\n",
    "(X_train, Y_train), (X_test, Y_test) = fashion_mnist.load_data()"
   ]
  }
 ],
 "metadata": {
  "kernelspec": {
   "display_name": "Python 3",
   "language": "python",
   "name": "python3"
  },
  "language_info": {
   "codemirror_mode": {
    "name": "ipython",
    "version": 3
   },
   "file_extension": ".py",
   "mimetype": "text/x-python",
   "name": "python",
   "nbconvert_exporter": "python",
   "pygments_lexer": "ipython3",
   "version": "3.10.8 (tags/v3.10.8:aaaf517, Oct 11 2022, 16:50:30) [MSC v.1933 64 bit (AMD64)]"
  },
  "orig_nbformat": 4,
  "vscode": {
   "interpreter": {
    "hash": "c6dc7db6e986e8b90ed4be5bee4794d9e1585055375cb0fe0f76777a0105364a"
   }
  }
 },
 "nbformat": 4,
 "nbformat_minor": 2
}
